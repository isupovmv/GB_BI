{
  "nbformat": 4,
  "nbformat_minor": 0,
  "metadata": {
    "colab": {
      "provenance": [],
      "authorship_tag": "ABX9TyNE+a708T0LIXCriMJDUTNJ",
      "include_colab_link": true
    },
    "kernelspec": {
      "name": "python3",
      "display_name": "Python 3"
    },
    "language_info": {
      "name": "python"
    }
  },
  "cells": [
    {
      "cell_type": "markdown",
      "metadata": {
        "id": "view-in-github",
        "colab_type": "text"
      },
      "source": [
        "<a href=\"https://colab.research.google.com/github/isupovmv/GB_Python/blob/main/Lab2.ipynb\" target=\"_parent\"><img src=\"https://colab.research.google.com/assets/colab-badge.svg\" alt=\"Open In Colab\"/></a>"
      ]
    },
    {
      "cell_type": "markdown",
      "source": [
        "##Урок 2. Как правильно оформить визуальный элемент"
      ],
      "metadata": {
        "id": "ptdrN6doH00N"
      }
    },
    {
      "cell_type": "markdown",
      "source": [
        "Дополните визуализацию, которую вы сделали на занятии следующими параметрами:\n",
        "- Количество конверсий по браузерам\n",
        "- В конверсиях по городам уберите значение “(not set)”\n",
        "- На какие модели авто приходили конверсии\n",
        "- Какая марка лидирует по количеству конверсий\n",
        "- Из каких Source приходили конверсии"
      ],
      "metadata": {
        "id": "YstZuVXRMcnb"
      }
    }
  ]
}